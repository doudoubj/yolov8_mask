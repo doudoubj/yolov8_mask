{
 "cells": [
  {
   "cell_type": "code",
   "execution_count": 1,
   "id": "4e4c5549-f2e0-46eb-adef-fc2b4fa52edb",
   "metadata": {
    "execution": {
     "iopub.execute_input": "2024-04-20T02:27:24.283215Z",
     "iopub.status.busy": "2024-04-20T02:27:24.282895Z",
     "iopub.status.idle": "2024-04-20T02:27:25.491414Z",
     "shell.execute_reply": "2024-04-20T02:27:25.490743Z",
     "shell.execute_reply.started": "2024-04-20T02:27:24.283195Z"
    },
    "tags": []
   },
   "outputs": [],
   "source": [
    "! mkdir -p /root/.config/Ultralytics\n",
    "! cp -r Arial.ttf /root/.config/Ultralytics/Arial.ttf"
   ]
  }
 ],
 "metadata": {
  "kernelspec": {
   "display_name": "Python 3 (ipykernel)",
   "language": "python",
   "name": "python3"
  },
  "language_info": {
   "codemirror_mode": {
    "name": "ipython",
    "version": 3
   },
   "file_extension": ".py",
   "mimetype": "text/x-python",
   "name": "python",
   "nbconvert_exporter": "python",
   "pygments_lexer": "ipython3",
   "version": "3.10.13"
  }
 },
 "nbformat": 4,
 "nbformat_minor": 5
}
